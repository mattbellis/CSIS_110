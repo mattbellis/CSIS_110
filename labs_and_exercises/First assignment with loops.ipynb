{
 "metadata": {
  "name": "First assignment with loops"
 },
 "nbformat": 3,
 "nbformat_minor": 0,
 "worksheets": [
  {
   "cells": [
    {
     "cell_type": "markdown",
     "metadata": {},
     "source": [
      "In this next assignment, we will make use of loops.  \n",
      "\n",
      "Loops are *incredibly* useful because they can run calculations over and over and over again. Something which most of us would rather *not* do! "
     ]
    },
    {
     "cell_type": "heading",
     "level": 2,
     "metadata": {},
     "source": [
      "Problem 1"
     ]
    },
    {
     "cell_type": "markdown",
     "metadata": {},
     "source": [
      "Remind yourself of the factorial function.\n",
      "\n",
      "$$x! = x * (x-1) * (x-2) * ... * 1$$"
     ]
    },
    {
     "cell_type": "markdown",
     "metadata": {},
     "source": [
      "<b>Your assignment.</b> Write a piece of code that calculates the factorial of a number, using what you have learned about loops. "
     ]
    },
    {
     "cell_type": "code",
     "collapsed": false,
     "input": [],
     "language": "python",
     "metadata": {},
     "outputs": []
    },
    {
     "cell_type": "heading",
     "level": 2,
     "metadata": {},
     "source": [
      "Problem 2"
     ]
    },
    {
     "cell_type": "markdown",
     "metadata": {},
     "source": [
      "Recall the calculation of $\\pi$ from the previous lab where we used a series approximation discovered by <a href=\"http://en.wikipedia.org/wiki/C._P._Ramanujam\">Ramanujan</a>.\n",
      "\n",
      "$$\\frac{1}{\\pi} = \\frac{2\\sqrt{2}}{9801} \\sum_{k=0}^\\infty  \\frac{(4k)!(1103+26390k)}{(k!)^4 396^{4k}}$$\n",
      "\n",
      "Remember that the $!$ operator is the factorial. \n",
      "\n",
      "$$x! = x * (x-1) * (x-2) * ... * 1$$"
     ]
    },
    {
     "cell_type": "markdown",
     "metadata": {},
     "source": [
      "Note that python can handle very large integers!"
     ]
    },
    {
     "cell_type": "code",
     "collapsed": false,
     "input": [
      "x = 2**1000\n",
      "x"
     ],
     "language": "python",
     "metadata": {},
     "outputs": [
      {
       "output_type": "pyout",
       "prompt_number": 7,
       "text": [
        "10715086071862673209484250490600018105614048117055336074437503883703510511249361224931983788156958581275946729175531468251871452856923140435984577574698574803934567774824230985421074605062371141877954182153046474983581941267398767559165543946077062914571196477686542167660429831652624386837205668069376L"
       ]
      }
     ],
     "prompt_number": 7
    },
    {
     "cell_type": "code",
     "collapsed": false,
     "input": [
      "y = 10**100\n",
      "y"
     ],
     "language": "python",
     "metadata": {},
     "outputs": [
      {
       "output_type": "pyout",
       "prompt_number": 10,
       "text": [
        "10000000000000000000000000000000000000000000000000000000000000000000000000000000000000000000000000000L"
       ]
      }
     ],
     "prompt_number": 10
    },
    {
     "cell_type": "code",
     "collapsed": false,
     "input": [
      "z = 2.334895349875**30\n",
      "z"
     ],
     "language": "python",
     "metadata": {},
     "outputs": [
      {
       "output_type": "pyout",
       "prompt_number": 13,
       "text": [
        "111692138747.19759"
       ]
      }
     ],
     "prompt_number": 13
    },
    {
     "cell_type": "markdown",
     "metadata": {},
     "source": [
      "However, these are integers. There is still a limit as to how many digits can be stored. "
     ]
    },
    {
     "cell_type": "markdown",
     "metadata": {},
     "source": [
      "<b>Your assignment. </b>Calculate the first 10 terms in the Ramanujan series and print them to the screen. You do not need to keep the running sum."
     ]
    },
    {
     "cell_type": "code",
     "collapsed": false,
     "input": [],
     "language": "python",
     "metadata": {},
     "outputs": []
    },
    {
     "cell_type": "markdown",
     "metadata": {},
     "source": [
      "<b>Follow-up!</b> How many terms can you calculate? What was the error statement when you reached that limit? What does that error statement mean?"
     ]
    },
    {
     "cell_type": "code",
     "collapsed": false,
     "input": [],
     "language": "python",
     "metadata": {},
     "outputs": [],
     "prompt_number": 13
    },
    {
     "cell_type": "markdown",
     "metadata": {},
     "source": [
      "<b>Bonus!</b> There are python libraries that allow you calculate numbers to higher precision. "
     ]
    },
    {
     "cell_type": "code",
     "collapsed": false,
     "input": [
      "from decimal import Decimal,getcontext\n",
      "\n",
      "a = Decimal(6)\n",
      "one = Decimal(1)\n",
      "\n",
      "getcontext().prec = 6 # Set the precision to be 6 decimal places\n",
      "\n",
      "print one/a\n",
      "\n",
      "getcontext().prec = 50 # Set the precision to be 50 decimal places\n",
      "\n",
      "print one/a"
     ],
     "language": "python",
     "metadata": {},
     "outputs": [
      {
       "output_type": "stream",
       "stream": "stdout",
       "text": [
        "0.166667\n",
        "0.16666666666666666666666666666666666666666666666667\n"
       ]
      }
     ],
     "prompt_number": 16
    },
    {
     "cell_type": "markdown",
     "metadata": {},
     "source": [
      "Using this ``decimal`` library, calculate $\\pi$ to 400 decimal places! (<i>Hint! You need to sum up the first 50 terms to do this!</i>)"
     ]
    },
    {
     "cell_type": "code",
     "collapsed": false,
     "input": [],
     "language": "python",
     "metadata": {},
     "outputs": []
    }
   ],
   "metadata": {}
  }
 ]
}