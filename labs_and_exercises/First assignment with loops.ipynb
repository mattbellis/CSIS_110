{
 "metadata": {
  "name": "First assignment with loops"
 },
 "nbformat": 3,
 "nbformat_minor": 0,
 "worksheets": [
  {
   "cells": [
    {
     "cell_type": "markdown",
     "metadata": {},
     "source": [
      "In this next assignment, we will make use of loops.  "
     ]
    }
   ],
   "metadata": {}
  }
 ]
}