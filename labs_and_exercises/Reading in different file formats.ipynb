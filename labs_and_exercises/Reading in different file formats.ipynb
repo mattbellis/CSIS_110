{
 "metadata": {
  "name": "Reading in different file formats"
 },
 "nbformat": 3,
 "nbformat_minor": 0,
 "worksheets": [
  {
   "cells": [
    {
     "cell_type": "code",
     "collapsed": false,
     "input": [
      "import csv"
     ],
     "language": "python",
     "metadata": {},
     "outputs": []
    }
   ],
   "metadata": {}
  }
 ]
}