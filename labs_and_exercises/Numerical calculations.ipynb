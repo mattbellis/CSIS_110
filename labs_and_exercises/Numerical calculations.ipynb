{
 "metadata": {
  "name": "Numerical calculations"
 },
 "nbformat": 3,
 "nbformat_minor": 0,
 "worksheets": [
  {
   "cells": [
    {
     "cell_type": "heading",
     "level": 1,
     "metadata": {},
     "source": [
      "Breaking down your calculations"
     ]
    },
    {
     "cell_type": "markdown",
     "metadata": {},
     "source": [
      "Python itself makes an excellent replacement for your calculator. I often find myself opening python first whenever I have to do even the simplest of calculations. For example, go to your python interpreter, either in a terminal or in Canopy *SCREEN SHOT OF EACH OF THESE EXAMPLES!*."
     ]
    },
    {
     "cell_type": "markdown",
     "metadata": {},
     "source": [
      "Once you're there. You can just start typing in calculations the way you would your calculator. "
     ]
    },
    {
     "cell_type": "code",
     "collapsed": false,
     "input": [
      "2+4"
     ],
     "language": "python",
     "metadata": {},
     "outputs": [
      {
       "output_type": "pyout",
       "prompt_number": 1,
       "text": [
        "6"
       ]
      }
     ],
     "prompt_number": 1
    },
    {
     "cell_type": "code",
     "collapsed": false,
     "input": [
      "(1.0/2.0)*9.81*(4**2)"
     ],
     "language": "python",
     "metadata": {},
     "outputs": [
      {
       "output_type": "pyout",
       "prompt_number": 2,
       "text": [
        "78.48"
       ]
      }
     ],
     "prompt_number": 2
    },
    {
     "cell_type": "markdown",
     "metadata": {},
     "source": [
      "The nice thing about doing this in Python is that you can assign values to variables before you perform the calculation. This makes it easier to check your work to see if you've made a mistake entering in any of the values. Later on, when you are writing more complicated programs, you may find that this makes your code more readable and easy to edit and modify. Also, note how I can add comments (anything following the ``#\" character) in my assignments."
     ]
    },
    {
     "cell_type": "code",
     "collapsed": false,
     "input": [
      "a = 9.81 # acceleration due to gravity (m/s^2)\n",
      "t = 4 # time (s)\n",
      "x = (1.0/2.0)*a*(t**2)\n",
      "x"
     ],
     "language": "python",
     "metadata": {},
     "outputs": [
      {
       "output_type": "pyout",
       "prompt_number": 6,
       "text": [
        "78.48"
       ]
      }
     ],
     "prompt_number": 6
    },
    {
     "cell_type": "heading",
     "level": 1,
     "metadata": {},
     "source": [
      "Check yourself!!!!"
     ]
    },
    {
     "cell_type": "markdown",
     "metadata": {},
     "source": [
      "What is the mistake in the following code? Isn't it the same as what you just did?"
     ]
    },
    {
     "cell_type": "code",
     "collapsed": false,
     "input": [
      "a = 9.81 # acceleration due to gravity (m/s^2)\n",
      "t = 4 # time (s)\n",
      "x = (1/2)*a*(t**2)\n",
      "x"
     ],
     "language": "python",
     "metadata": {},
     "outputs": [
      {
       "output_type": "pyout",
       "prompt_number": 5,
       "text": [
        "0.0"
       ]
      }
     ],
     "prompt_number": 5
    },
    {
     "cell_type": "markdown",
     "metadata": {},
     "source": [
      "In the following problems, you'll make use of this approach to calculate some simple and some not-so-simple quantities. "
     ]
    },
    {
     "cell_type": "heading",
     "level": 2,
     "metadata": {},
     "source": [
      "Problem 1 - How far is a light year?"
     ]
    },
    {
     "cell_type": "markdown",
     "metadata": {},
     "source": [
      "A light-year is the distance that light travels in one year (in a vacuum). The speed of light ($c$) in a vacuum is $$c = 299792 \\textrm{m/s}^2$$"
     ]
    },
    {
     "cell_type": "markdown",
     "metadata": {},
     "source": [
      "How many seconds are there in a year? Try to use the approach we discussed where you assign parts of the problem to their own variable, and then combine them all at the end"
     ]
    },
    {
     "cell_type": "code",
     "collapsed": false,
     "input": [],
     "language": "python",
     "metadata": {},
     "outputs": []
    },
    {
     "cell_type": "markdown",
     "metadata": {},
     "source": [
      "How far does light travel in one year?"
     ]
    },
    {
     "cell_type": "code",
     "collapsed": false,
     "input": [],
     "language": "python",
     "metadata": {},
     "outputs": []
    },
    {
     "cell_type": "markdown",
     "metadata": {},
     "source": [
      "*Bonus!* How many fathoms is that?"
     ]
    },
    {
     "cell_type": "heading",
     "level": 2,
     "metadata": {},
     "source": [
      "Problem 2 - Room a Thousand Years Wide"
     ]
    },
    {
     "cell_type": "markdown",
     "metadata": {},
     "source": [
      "In 1991, Nirvana put out the album ``Nevermind\". Behind the radio and MTV smash-hit \"Smells Like Teen Spirit\", Nirvana and the burgeoning grunge music genre burst upon the national scene. However, to solely credit Nirvana for being the driving force behind grunge would be a mistake and would undersell the importance of Pearl Jam, The Smashing Pumpkins, and even lesser-known acts like Mudhoney and Screaming Trees. \n",
      "\n",
      "Nirvana was like a whale breaching the surface of the water in front of a boatload of whale watchers. They gasp in awe as the cetacean rises from the depths and flings itself into a different world...*our world* as effortlessly as you and I taking a breath. But as we marvel at this creature, we cannot help but think about what else lies beneath the depths. If this whale can exist and thrive, how diverse, how amazing must the full ecosystem be? Are there even greater beasts down there?\n",
      "\n",
      "In October of 1991, Soundgarden relased the album \"Badmotorfinger\". While many would credit their follow-up album ``Superunknown\" and its hit single ``Black Hole Sun\" as being their breakthrough project, they would be wrong. \"Badmotorfinger\" was representative of Soundgarden fully in control of their powers. A devestating album that laid waste to so much that came before and still continues to echo and resonate in our collective music consciousness, whether we know it or not. Soundgarden was mighty and they had gifted us with this masterpiece. If Nirvana is the whale that awes us as we gaze upon it, Soundgarden was the deeper power that we know exists, but can scarcely fathom (see what I did there?). Soundgarden was Leviathan. Soundgarden was the Midgard Serpent. Soundgarden was mighty Cthulhu slumbering beneath the waves, delivering a beautiful madness on all those who listened to their non-Euclidean tonalities. \n",
      "\n",
      "One of the songs on \"Badmotorfinger\" is titled \"Room a Thousand Years Wide\". Chris Cornell sings\n",
      "\n",
      "  ``<i>Listen, hear, he is inside<br>\n",
      "  One who lives while others lie<br>\n",
      "  I close my eyes and walk a thousand years<br> \n",
      "A thousand years that aren't mine</t>\""
     ]
    },
    {
     "cell_type": "markdown",
     "metadata": {},
     "source": [
      "How big *is* a room a thousand years wide?"
     ]
    },
    {
     "cell_type": "code",
     "collapsed": false,
     "input": [],
     "language": "python",
     "metadata": {},
     "outputs": []
    },
    {
     "cell_type": "markdown",
     "metadata": {},
     "source": [
      "Is this distance greater or less than a light year?"
     ]
    },
    {
     "cell_type": "code",
     "collapsed": false,
     "input": [],
     "language": "python",
     "metadata": {},
     "outputs": []
    },
    {
     "cell_type": "markdown",
     "metadata": {},
     "source": [
      "*Bonus!* How awesome is Soundgarden?"
     ]
    },
    {
     "cell_type": "heading",
     "level": 2,
     "metadata": {},
     "source": [
      "Problem 3 - Ramanujan and $\\pi$"
     ]
    },
    {
     "cell_type": "code",
     "collapsed": false,
     "input": [],
     "language": "python",
     "metadata": {},
     "outputs": []
    }
   ],
   "metadata": {}
  }
 ]
}