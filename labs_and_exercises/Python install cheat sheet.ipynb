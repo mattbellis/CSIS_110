{
 "metadata": {
  "name": "Python install cheat sheet"
 },
 "nbformat": 3,
 "nbformat_minor": 0,
 "worksheets": [
  {
   "cells": [
    {
     "cell_type": "heading",
     "level": 1,
     "metadata": {},
     "source": [
      "Installing Python (and other goodies) on your local machine."
     ]
    },
    {
     "cell_type": "markdown",
     "metadata": {},
     "source": [
      "This cheat sheet will walk you through the process of installing Python and some associated libraries on your local machine (laptop or desktop). You can do this one of two ways, both described in detail below. The first way is to use the <a href=\"https://www.enthought.com/\">Enthought</a> bundled distribution. It is free for users with an academic (.edu) email address and is strongly recommended for Mac users, due to Mac's pre-exisiting Python installation which can conflict with extra libraries. The Enthought Windows distribution works very well also. The other way to install Python is by grabbing the files directly from the Python websites and installing manually. This procededure has only been tested for Windows machines. \n",
      "\n",
      "All of these installations are free for you. \n",
      "\n",
      "As always, if you have questions on any of this or run into problems with the install, please let your instructor know exactly what the issue is so that we can solve it and document it for future students. "
     ]
    },
    {
     "cell_type": "heading",
     "level": 2,
     "metadata": {},
     "source": [
      "The Enthought Canopy package manager."
     ]
    },
    {
     "cell_type": "markdown",
     "metadata": {},
     "source": [
      "The simplest way to get a complete, self-consistent Python installation is to use the <a href=\"http://blog.enthought.com/general/introducing-enthought-canopy/\">Enthought Canopy analysis environment and package installer</a>. Let's walk through the installation of this product and the packages you need for this class. \n"
     ]
    },
    {
     "cell_type": "heading",
     "level": 3,
     "metadata": {},
     "source": [
      "Get an academic license. "
     ]
    },
    {
     "cell_type": "markdown",
     "metadata": {},
     "source": [
      "Go to <a href=\"https://www.enthought.com/products/canopy/academic/\">the appropriate Enthought page</a>. \n",
      "\n",
      "Click on the green button that says <a href=\"https://www.enthought.com/licenses/academic/request/success\">Request your Academic License</a>. Fill out the requested information, making sure you use your <b>Siena email information</b>. \n",
      "\n",
      "Once you have submitted this form, you should receive an email to confirm your license in about 2-30 minutes. Follow the information in that email. Once that is done, you should now have an account on the Enthought site!"
     ]
    },
    {
     "cell_type": "heading",
     "level": 3,
     "metadata": {},
     "source": [
      "Download Canopy"
     ]
    },
    {
     "cell_type": "code",
     "collapsed": false,
     "input": [],
     "language": "python",
     "metadata": {},
     "outputs": []
    },
    {
     "cell_type": "heading",
     "level": 2,
     "metadata": {},
     "source": [
      "Installing manually (Windows only)"
     ]
    },
    {
     "cell_type": "code",
     "collapsed": false,
     "input": [],
     "language": "python",
     "metadata": {},
     "outputs": []
    }
   ],
   "metadata": {}
  }
 ]
}