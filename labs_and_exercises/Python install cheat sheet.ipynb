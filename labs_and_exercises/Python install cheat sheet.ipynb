{
 "metadata": {
  "name": "Python install cheat sheet"
 },
 "nbformat": 3,
 "nbformat_minor": 0,
 "worksheets": [
  {
   "cells": [
    {
     "cell_type": "heading",
     "level": 1,
     "metadata": {},
     "source": [
      "Installing Python (and other goodies) on your local machine."
     ]
    },
    {
     "cell_type": "markdown",
     "metadata": {},
     "source": [
      "This cheat sheet will walk you through the process of installing Python and some associated libraries on your local machine (laptop or desktop). You can do this one of two ways, both described in detail below. The first way is to use the <a href=\"https://www.enthought.com/\">Enthought</a> bundled distribution. It is free for users with an academic (.edu) email address and is strongly recommended for Mac users, due to Mac's pre-exisiting Python installation which can conflict with extra libraries. The Enthought Windows distribution works very well also. The other way to install Python is by grabbing the files directly from the Python websites and installing manually. This procededure has only been tested for Windows machines. \n",
      "\n",
      "All of these installations are free for you. \n",
      "\n",
      "As always, if you have questions on any of this or run into problems with the install, please let your instructor know exactly what the issue is so that we can solve it and document it for future students. "
     ]
    },
    {
     "cell_type": "heading",
     "level": 2,
     "metadata": {},
     "source": [
      "The Enthought Canopy package manager."
     ]
    },
    {
     "cell_type": "markdown",
     "metadata": {},
     "source": [
      "The simplest way to get a complete, self-consistent Python installation is to use the <a href=\"http://blog.enthought.com/general/introducing-enthought-canopy/\">Enthought Canopy analysis environment and package installer</a>. Let's walk through the installation of this product and the packages you need for this class. \n"
     ]
    },
    {
     "cell_type": "heading",
     "level": 3,
     "metadata": {},
     "source": [
      "Get an academic license. "
     ]
    },
    {
     "cell_type": "markdown",
     "metadata": {},
     "source": [
      "Go to <a href=\"https://www.enthought.com/products/canopy/academic/\">the appropriate Enthought page</a>. \n",
      "\n",
      "Click on the green button that says <a href=\"https://www.enthought.com/licenses/academic/request/success\">Request your Academic License</a>. Fill out the requested information, making sure you use your <b>Siena email information</b>. \n",
      "\n",
      "Once you have submitted this form, you should receive an email to confirm your license in about 2-30 minutes. Follow the information in that email. Once that is done, you should now have an account on the Enthought site!"
     ]
    },
    {
     "cell_type": "heading",
     "level": 3,
     "metadata": {},
     "source": [
      "Download Canopy"
     ]
    },
    {
     "cell_type": "markdown",
     "metadata": {},
     "source": [
      "From the previous page, find the text that says <i>`` You can now download Canopy installers for any platform here\"</i> and click on the link.\n",
      "\n",
      "Alternatively, you can go directly to <a href=\"https://www.enthought.com/downloads/\">https://www.enthought.com/downloads/</a>.\n",
      "\n",
      "From here, click on the button to Download Canopy for <i>your operating system</i>.\n",
      "\n",
      "Fair warning...the download might be over 250MB, so it may take some time (10-30 minutes maybe, depending on your connection speed) to download. Try not to do this just before class!  :)"
     ]
    },
    {
     "cell_type": "heading",
     "level": 3,
     "metadata": {},
     "source": [
      "Install Canopy"
     ]
    },
    {
     "cell_type": "markdown",
     "metadata": {},
     "source": [
      "Your operating system may have automatically started the install process when the Canopy program is finished downloading. \n",
      "\n",
      "If it didn't, find the Canopy download icon (perhaps on your Desktop?) and double click on it to start the installation process. \n",
      "\n",
      "A GUI will be launched that will walk you through the installation process. The best bet is to simply take the defaults offered to you.\n",
      "\n",
      "Once the installation is completed, you will now be able to install Python and many, many, many helpful libraries!"
     ]
    },
    {
     "cell_type": "heading",
     "level": 3,
     "metadata": {},
     "source": [
      "Installing Python and other libraries with Canopy"
     ]
    },
    {
     "cell_type": "markdown",
     "metadata": {},
     "source": [
      "Launch the Canopy Package Manager <font color='red'><b>PROBABLY NEED SOME BETTER TEXT HERE TO HELP STUDENTS FIGURE OUT EXACTLY HOW TO LAUNCH CANOPY</b></font>\n",
      "\n",
      "You can use the Search bar on the Package Manager (upper left) to search for packages. Packages matching the words you type will appear in the main frame (left side).\n",
      "\n",
      "You can then click on these packages, to mark them for installation. <font color='red'><b>Is this right? I don't actually have it in front of me.</b></font>\n",
      "\n",
      "For the following step you may find that some of these are already installed on your machine. The packages you want to install are:\n",
      "<ul>\n",
      "    <li>Python</li>\n",
      "    <li>iPython</li>\n",
      "    <li>iPython notebook (search for Notebook)</i>\n",
      "    <li>Scipy</li>\n",
      "    <li>Numpy</li>\n",
      "    <li>Matplotlib</li>\n",
      "</ul>\n",
      "        "
     ]
    },
    {
     "cell_type": "heading",
     "level": 3,
     "metadata": {},
     "source": [
      "Checking your installation."
     ]
    },
    {
     "cell_type": "markdown",
     "metadata": {},
     "source": [
      "Launch the iPython-notebook. <font color='red'><b>Need to figure out how to tell students to do this.</b></font>. Run the following code."
     ]
    },
    {
     "cell_type": "code",
     "collapsed": false,
     "input": [
      "import numpy as np\n",
      "import matplotlib.pylab as plt\n",
      "\n",
      "x = np.linspace(0,2*np.pi,1000)\n",
      "y = np.sin(x)\n",
      "plt.plot(x,y)\n",
      "plt.show()"
     ],
     "language": "python",
     "metadata": {},
     "outputs": [
      {
       "output_type": "display_data",
       "png": "[encoded data removed]"
      }
     ],
     "prompt_number": 1
    },
    {
     "cell_type": "markdown",
     "metadata": {},
     "source": [
      "If you see the plot of the sin function, as shown above, congratulations! You've sucessfully installed all the tools you'll need for this course!"
     ]
    },
    {
     "cell_type": "heading",
     "level": 2,
     "metadata": {},
     "source": [
      "Installing manually (Windows only)"
     ]
    },
    {
     "cell_type": "code",
     "collapsed": false,
     "input": [],
     "language": "python",
     "metadata": {},
     "outputs": []
    }
   ],
   "metadata": {}
  }
 ]
}