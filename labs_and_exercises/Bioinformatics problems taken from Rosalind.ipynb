{
 "metadata": {
  "name": "Bioinformatics problems taken from Rosalind"
 },
 "nbformat": 3,
 "nbformat_minor": 0,
 "worksheets": [
  {
   "cells": [
    {
     "cell_type": "heading",
     "level": 1,
     "metadata": {},
     "source": [
      "Bioinformatics problems"
     ]
    },
    {
     "cell_type": "markdown",
     "metadata": {},
     "source": [
      "These problems are taken from the <a href=\"http://rosalind.info/about/\">Rosalind.info</a> website. From their website:"
     ]
    },
    {
     "cell_type": "markdown",
     "metadata": {},
     "source": [
      "<i>``Learning bioinformatics usually requires solving computational problems of varying difficulty that are extracted from real challenges of molecular biology.\n",
      "\n",
      "To make learning bioinformatics fun and easy, we have founded Rosalind, a platform for learning bioinformatics through problem solving.\n",
      "\n",
      "Rosalind offers an array of intellectually stimulating problems that grow in biological and computational complexity; each problem is checked automatically, so that the only resource required to learn bioinformatics is an internet connection.\n",
      "\n",
      "Rosalind also promises to facilitate improvements in standard bioinformatics education by providing a vital teaching aid and a central homework resource.\n",
      "\n",
      "Rosalind is inspired by Project Euler, Google Code Jam, and the ever growing movement of free online courses. The project's name commemorates Rosalind Franklin, whose X-ray crystallography with Raymond Gosling facilitated the discovery of the DNA double helix by Watson and Crick.\"</i>"
     ]
    },
    {
     "cell_type": "markdown",
     "metadata": {},
     "source": [
      "This assignment will walk you through the first XXX problems on the site. There are numerous ways to solve each problem. You may find it educational to try to use the basic string methods and some numpy array methods. \n",
      "\n",
      "(Hint! We have provided the links to the Rosalind site for each problem. On the site, you can find extra information about bioinformatics that you might find interesting!)\n",
      "\n",
      "<b><i>Good luck!</i></b>"
     ]
    },
    {
     "cell_type": "heading",
     "level": 2,
     "metadata": {},
     "source": [
      "Counting DNA nucleotides"
     ]
    },
    {
     "cell_type": "markdown",
     "metadata": {},
     "source": [
      "Taken from <a href=\"http://rosalind.info/problems/dna/\">http://rosalind.info/problems/dna/</a>."
     ]
    },
    {
     "cell_type": "markdown",
     "metadata": {},
     "source": [
      "\n",
      "A string is simply an ordered collection of symbols selected from some alphabet and formed into a word; the length of a string is the number of symbols that it contains.\n",
      "\n",
      "An example of a length 21 DNA string (whose alphabet contains the symbols 'A', 'C', 'G', and 'T') is \"ATGCTTCAGAAAGGTCTTACG.\"\n",
      "\n",
      "<b>Given:</b> A DNA string s of length at most 1000 nt.\n",
      "\n",
      "<b>Return:</b> Four integers (separated by spaces) counting the respective number of times that the symbols 'A', 'C', 'G', and 'T' occur in s.\n",
      "\n",
      "\n",
      "<i>Sample Dataset</i>\n",
      "\n",
      "<b>AGCTTTTCATTCTGACTGCAACGGGCAATATGTCTCTGTGTGGATTAAAAAAAGAGTGTCTGATAGCAGC</b>\n",
      "        \n",
      "<i>Sample Output</i>\n",
      "\n",
      "<b>20 12 17 21</b>"
     ]
    },
    {
     "cell_type": "code",
     "collapsed": false,
     "input": [
      "your_dataset = \"CTGTTCTTCACTCGTCTTCTTACTCATTTACTATAGAATGGAGTGTTTTTCGCGCGTGCGATCGGCCCCGGGTCCCATATGTTATGTACAGACAACCGTCACGGACTGCTTCTCCAGGAGACTGGCACGATGCTATTTCAACTGCACCCGGCGAGAATGTGCCACACTGATCCGAAATGAGCGCCTAGTTTATTAATCTACATGTGTTTTAATTAACTTCGTACACTATTGCTTCGTTACCAGACTTTTGGATTTGGACGCTGGTTCGCGTTCCTTCAGGGACACAGACGCGAAGTCCGTGTCCGTTGTCTACCCTCCGCCGTCATGATATTCAGAGTCAGACTCTACGTTACGCGGCCCACCAACGCATACCCACCCAATCTCATGGGTGATAAATATTGTGTTTAGCTTATATGCAAGTAGCCCAAGGGCTTTTAAAACTAATGCCGCAGTACATGAAAAGATGATGAGCTATAAAGGCGAAAGAAGCCATGCTGCTTGATGGGTAGAATGCTTTCCACTTTCGACCGAGAAGGGGGACACGAGACGTAACTGCAGACACTACGCCGTTTTTTGGTTCACTTAGTATGTTGGAATGGAGCTTTAATCAGTGAAGCGAACGGAAAAAAAATCCGGCGCGAGGATACCAAAGGCTACGCATAATTCTTCGCCCGAGTAGCCACAAGTCGTCGGACTTACCATGTCCACTCTCCTTGTGAAGCATGAAGGTTCTTGAGGCGCACAAAGCTGCGTGGAACCGCTGCGTCACGTAAAGGGATTAAAACATTGGCGTTACGAATGTTGAGGCCGATCTGGTCAGATAATACATCAATTGGTTCGCTTAAGTTGATTGCTTTGTGTTTATTAAAAGGTTCTATAGCGACTAAGTACCACTGATCACACCCGTAACCGGTAGTGTTTCGGTCGGATTAAA\""
     ],
     "language": "python",
     "metadata": {},
     "outputs": [],
     "prompt_number": 2
    },
    {
     "cell_type": "code",
     "collapsed": false,
     "input": [
      "your_dataset"
     ],
     "language": "python",
     "metadata": {},
     "outputs": [
      {
       "output_type": "pyout",
       "prompt_number": 3,
       "text": [
        "'CTGTTCTTCACTCGTCTTCTTACTCATTTACTATAGAATGGAGTGTTTTTCGCGCGTGCGATCGGCCCCGGGTCCCATATGTTATGTACAGACAACCGTCACGGACTGCTTCTCCAGGAGACTGGCACGATGCTATTTCAACTGCACCCGGCGAGAATGTGCCACACTGATCCGAAATGAGCGCCTAGTTTATTAATCTACATGTGTTTTAATTAACTTCGTACACTATTGCTTCGTTACCAGACTTTTGGATTTGGACGCTGGTTCGCGTTCCTTCAGGGACACAGACGCGAAGTCCGTGTCCGTTGTCTACCCTCCGCCGTCATGATATTCAGAGTCAGACTCTACGTTACGCGGCCCACCAACGCATACCCACCCAATCTCATGGGTGATAAATATTGTGTTTAGCTTATATGCAAGTAGCCCAAGGGCTTTTAAAACTAATGCCGCAGTACATGAAAAGATGATGAGCTATAAAGGCGAAAGAAGCCATGCTGCTTGATGGGTAGAATGCTTTCCACTTTCGACCGAGAAGGGGGACACGAGACGTAACTGCAGACACTACGCCGTTTTTTGGTTCACTTAGTATGTTGGAATGGAGCTTTAATCAGTGAAGCGAACGGAAAAAAAATCCGGCGCGAGGATACCAAAGGCTACGCATAATTCTTCGCCCGAGTAGCCACAAGTCGTCGGACTTACCATGTCCACTCTCCTTGTGAAGCATGAAGGTTCTTGAGGCGCACAAAGCTGCGTGGAACCGCTGCGTCACGTAAAGGGATTAAAACATTGGCGTTACGAATGTTGAGGCCGATCTGGTCAGATAATACATCAATTGGTTCGCTTAAGTTGATTGCTTTGTGTTTATTAAAAGGTTCTATAGCGACTAAGTACCACTGATCACACCCGTAACCGGTAGTGTTTCGGTCGGATTAAA'"
       ]
      }
     ],
     "prompt_number": 3
    },
    {
     "cell_type": "code",
     "collapsed": false,
     "input": [],
     "language": "python",
     "metadata": {},
     "outputs": []
    },
    {
     "cell_type": "heading",
     "level": 2,
     "metadata": {},
     "source": [
      "Transcribing DNA into RNA"
     ]
    },
    {
     "cell_type": "markdown",
     "metadata": {},
     "source": [
      "Taken from <a href=\"http://rosalind.info/problems/rna/\">http://rosalind.info/problems/rna/</a>."
     ]
    },
    {
     "cell_type": "markdown",
     "metadata": {},
     "source": [
      "An RNA string is a string formed from the alphabet containing 'A', 'C', 'G', and 'U'.\n",
      "\n",
      "Given a DNA string t corresponding to a coding strand, its transcribed RNA string u is formed by replacing all occurrences of 'T' in t with 'U' in u.\n",
      "\n",
      "<b>Given:</b> A DNA string t having length at most 1000 nt.\n",
      "\n",
      "<b>Return:</b> The transcribed RNA string of t.\n",
      "\n",
      "<i>Sample Dataset</i>\n",
      "\n",
      "<b>GATGGAACTTGACTACGTAAATT</b>\n",
      "\n",
      "<i>Sample Output</i>\n",
      "\n",
      "<b>GAUGGAACUUGACUACGUAAAUU</b>"
     ]
    },
    {
     "cell_type": "code",
     "collapsed": false,
     "input": [
      "your_dataset = 'GAAGGATAGCCTGTCATATTAGTCACAGAAGATCATCCAGGCACTGGCTCCGAAGCGAACAAGCTGGAAAGCGAGTTCTGTTATAGGCCCTTAATGTTACTAGGTAATCATACCCCCAGCTGATGAGGCTTTAATCGCAAAAGCCTCCATCGGGTGACTACAAATCTGTGCGATAGACCTGACGTATGAGATCCCCGCTGTCAGACGTGAAATCGCTTCTGAAAGTGCATACCAGCCGATATCCTACCATTGAACTATCCGCTAGGATGGACTACTTCTTTAGATTGCGTTCCGAGCTGCAATGATCTTGCAAGGGGGTGGGGGTAGACACCGGTCTAAGCAACGGAAACCTTTGATGGAAAACGCTACCATGAACCGATTTCTTGTTGGCATTTCATTACCTGACGCCAGCCTAGTATACTCTCGCAAGCGGAAGAGGCTTGAGGAGAATCTGGGGTCCGGAAAGGCAATGTGCCTCCGGAGCAGTCACACGAGACAAGTACTTATTTACGGCGTCCGTACCTTAACTATTTATAGCCGCACCGTGGGTCTTACCGCGCCGTTTAATTATAGTCGCATGATCCGGTACCAGGTGAAGGGGAAGAACGGGAAGACAAGATACGGCCTAGCTTGCCACCGACAGCGCCGGCAAGGGACCCTTGACCCGATGAAGCCTATCGCCGCGGAAAGATGGTAGTACGGTAGTTAACGTAGTAGATTGACAGCAGCTCACTACGGTCAGGTCGTAGGCCACAGCGGACTCCAACTTGGTCAAATTGTGATACTGGCCGAAACACTCTCCTTCGTGGGTACAATAAGGTAAACCGAGTAAATGTCACCTCGTAGGGGCAAAAGCTACTCCATCTATATATATCGGGATCAATGTCTAGCTATCCGCACTGATCCCCCTCGAAGACCCGTGTACCCCTTTTAGCGTTGGGGAAGGGTCAATGGC'\n",
      "your_dataset"
     ],
     "language": "python",
     "metadata": {},
     "outputs": [
      {
       "output_type": "pyout",
       "prompt_number": 4,
       "text": [
        "'GAAGGATAGCCTGTCATATTAGTCACAGAAGATCATCCAGGCACTGGCTCCGAAGCGAACAAGCTGGAAAGCGAGTTCTGTTATAGGCCCTTAATGTTACTAGGTAATCATACCCCCAGCTGATGAGGCTTTAATCGCAAAAGCCTCCATCGGGTGACTACAAATCTGTGCGATAGACCTGACGTATGAGATCCCCGCTGTCAGACGTGAAATCGCTTCTGAAAGTGCATACCAGCCGATATCCTACCATTGAACTATCCGCTAGGATGGACTACTTCTTTAGATTGCGTTCCGAGCTGCAATGATCTTGCAAGGGGGTGGGGGTAGACACCGGTCTAAGCAACGGAAACCTTTGATGGAAAACGCTACCATGAACCGATTTCTTGTTGGCATTTCATTACCTGACGCCAGCCTAGTATACTCTCGCAAGCGGAAGAGGCTTGAGGAGAATCTGGGGTCCGGAAAGGCAATGTGCCTCCGGAGCAGTCACACGAGACAAGTACTTATTTACGGCGTCCGTACCTTAACTATTTATAGCCGCACCGTGGGTCTTACCGCGCCGTTTAATTATAGTCGCATGATCCGGTACCAGGTGAAGGGGAAGAACGGGAAGACAAGATACGGCCTAGCTTGCCACCGACAGCGCCGGCAAGGGACCCTTGACCCGATGAAGCCTATCGCCGCGGAAAGATGGTAGTACGGTAGTTAACGTAGTAGATTGACAGCAGCTCACTACGGTCAGGTCGTAGGCCACAGCGGACTCCAACTTGGTCAAATTGTGATACTGGCCGAAACACTCTCCTTCGTGGGTACAATAAGGTAAACCGAGTAAATGTCACCTCGTAGGGGCAAAAGCTACTCCATCTATATATATCGGGATCAATGTCTAGCTATCCGCACTGATCCCCCTCGAAGACCCGTGTACCCCTTTTAGCGTTGGGGAAGGGTCAATGGC'"
       ]
      }
     ],
     "prompt_number": 4
    },
    {
     "cell_type": "code",
     "collapsed": false,
     "input": [],
     "language": "python",
     "metadata": {},
     "outputs": []
    }
   ],
   "metadata": {}
  }
 ]
}