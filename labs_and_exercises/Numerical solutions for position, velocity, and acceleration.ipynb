{
 "metadata": {
  "name": "Numerical solutions for position, velocity, and acceleration"
 },
 "nbformat": 3,
 "nbformat_minor": 0,
 "worksheets": [
  {
   "cells": [
    {
     "cell_type": "code",
     "collapsed": false,
     "input": [
      "a = 9.8 # m/s^2"
     ],
     "language": "python",
     "metadata": {},
     "outputs": [],
     "prompt_number": 2
    },
    {
     "cell_type": "code",
     "collapsed": false,
     "input": [
      "t0 = 0 # start time\n",
      "dt = 1.0 # time step (Delta t)\n",
      "tmax = 100 # maximum time to run the simulation"
     ],
     "language": "python",
     "metadata": {},
     "outputs": [],
     "prompt_number": 3
    },
    {
     "cell_type": "code",
     "collapsed": false,
     "input": [
      "t = t0\n",
      "v = 0 # Veloctity is 0 (starts from rest)\n",
      "x = 0 # Position starts from some arbitrary 0 position\n",
      "while t<tmax:\n",
      "    dv = a*dt # Change in velocity is equal to the acceleration in that small time step.\n",
      "    v += dv # Increment the velocity by that small dv amount"
     ],
     "language": "python",
     "metadata": {},
     "outputs": [],
     "prompt_number": "*"
    },
    {
     "cell_type": "code",
     "collapsed": false,
     "input": [],
     "language": "python",
     "metadata": {},
     "outputs": []
    }
   ],
   "metadata": {}
  }
 ]
}