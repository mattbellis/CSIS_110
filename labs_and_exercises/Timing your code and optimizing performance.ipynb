{
 "metadata": {
  "name": "Timing your code and optimizing performance"
 },
 "nbformat": 3,
 "nbformat_minor": 0,
 "worksheets": [
  {
   "cells": [
    {
     "cell_type": "code",
     "collapsed": false,
     "input": [
      "def myloop(n=10000):\n",
      "    tot = 0.0\n",
      "    for i in xrange(0,n):\n",
      "        tot += i\n",
      "    print tot"
     ],
     "language": "python",
     "metadata": {},
     "outputs": [],
     "prompt_number": 3
    },
    {
     "cell_type": "code",
     "collapsed": false,
     "input": [
      "%time myloop(10000)"
     ],
     "language": "python",
     "metadata": {},
     "outputs": [
      {
       "output_type": "stream",
       "stream": "stdout",
       "text": [
        "49995000.0\n",
        "CPU times: user 0.00 s, sys: 0.00 s, total: 0.00 s\n",
        "Wall time: 0.00 s\n"
       ]
      }
     ],
     "prompt_number": 4
    },
    {
     "cell_type": "code",
     "collapsed": false,
     "input": [
      "%time myloop(100000000)"
     ],
     "language": "python",
     "metadata": {},
     "outputs": [
      {
       "output_type": "stream",
       "stream": "stdout",
       "text": [
        "4.99999995e+15\n",
        "CPU times: user 9.51 s, sys: 0.01 s, total: 9.52 s\n",
        "Wall time: 9.56 s\n"
       ]
      }
     ],
     "prompt_number": 5
    },
    {
     "cell_type": "code",
     "collapsed": false,
     "input": [
      "import timeit\n",
      "%timeit myloop(100000)"
     ],
     "language": "python",
     "metadata": {},
     "outputs": [
      {
       "output_type": "stream",
       "stream": "stdout",
       "text": [
        "4999950000.0\n",
        "4999950000.0\n",
        "4999950000.0\n",
        "4999950000.0\n",
        "4999950000.0\n",
        "4999950000.0"
       ]
      },
      {
       "output_type": "stream",
       "stream": "stdout",
       "text": [
        "\n",
        "4999950000.0\n",
        "4999950000.0\n",
        "4999950000.0\n",
        "4999950000.0"
       ]
      },
      {
       "output_type": "stream",
       "stream": "stdout",
       "text": [
        "\n",
        "4999950000.0\n",
        "4999950000.0\n",
        "4999950000.0\n",
        "4999950000.0"
       ]
      },
      {
       "output_type": "stream",
       "stream": "stdout",
       "text": [
        "\n",
        "4999950000.0\n",
        "4999950000.0\n",
        "4999950000.0\n",
        "4999950000.0\n",
        "4999950000.0"
       ]
      },
      {
       "output_type": "stream",
       "stream": "stdout",
       "text": [
        "\n",
        "4999950000.0\n",
        "4999950000.0\n",
        "4999950000.0\n",
        "4999950000.0"
       ]
      },
      {
       "output_type": "stream",
       "stream": "stdout",
       "text": [
        "\n",
        "4999950000.0\n",
        "4999950000.0\n",
        "4999950000.0"
       ]
      },
      {
       "output_type": "stream",
       "stream": "stdout",
       "text": [
        "\n",
        "4999950000.0\n",
        "4999950000.0\n",
        "4999950000.0\n",
        "4999950000.0\n",
        "4999950000.0"
       ]
      },
      {
       "output_type": "stream",
       "stream": "stdout",
       "text": [
        "\n",
        "4999950000.0\n",
        "4999950000.0\n",
        "4999950000.0\n",
        "4999950000.0\n",
        "4999950000.0"
       ]
      },
      {
       "output_type": "stream",
       "stream": "stdout",
       "text": [
        "\n",
        "4999950000.0\n",
        "4999950000.0\n",
        "4999950000.0\n",
        "4999950000.0\n",
        "4999950000.0"
       ]
      },
      {
       "output_type": "stream",
       "stream": "stdout",
       "text": [
        "\n",
        "4999950000.0\n",
        "4999950000.0\n",
        "4999950000.0\n",
        "4999950000.0\n",
        "4999950000.0\n",
        "4999950000.0"
       ]
      },
      {
       "output_type": "stream",
       "stream": "stdout",
       "text": [
        "\n",
        "4999950000.0\n",
        "4999950000.0\n",
        "4999950000.0\n",
        "4999950000.0\n",
        "4999950000.0"
       ]
      },
      {
       "output_type": "stream",
       "stream": "stdout",
       "text": [
        "\n",
        "4999950000.0\n",
        "4999950000.0\n",
        "4999950000.0\n",
        "4999950000.0"
       ]
      },
      {
       "output_type": "stream",
       "stream": "stdout",
       "text": [
        "\n",
        "4999950000.0\n",
        "4999950000.0\n",
        "4999950000.0\n",
        "4999950000.0"
       ]
      },
      {
       "output_type": "stream",
       "stream": "stdout",
       "text": [
        "\n",
        "4999950000.0\n",
        "4999950000.0\n",
        "4999950000.0\n",
        "4999950000.0"
       ]
      },
      {
       "output_type": "stream",
       "stream": "stdout",
       "text": [
        "\n",
        "4999950000.0\n",
        "4999950000.0\n",
        "4999950000.0\n",
        "4999950000.0"
       ]
      },
      {
       "output_type": "stream",
       "stream": "stdout",
       "text": [
        "\n",
        "4999950000.0\n",
        "4999950000.0\n",
        "4999950000.0\n",
        "4999950000.0\n",
        "4999950000.0"
       ]
      },
      {
       "output_type": "stream",
       "stream": "stdout",
       "text": [
        "\n",
        "4999950000.0\n",
        "4999950000.0\n",
        "4999950000.0\n",
        "4999950000.0\n",
        "4999950000.0"
       ]
      },
      {
       "output_type": "stream",
       "stream": "stdout",
       "text": [
        "\n",
        "4999950000.0\n",
        "4999950000.0\n",
        "4999950000.0\n",
        "4999950000.0"
       ]
      },
      {
       "output_type": "stream",
       "stream": "stdout",
       "text": [
        "\n",
        "4999950000.0\n",
        "4999950000.0\n",
        "4999950000.0\n",
        "4999950000.0"
       ]
      },
      {
       "output_type": "stream",
       "stream": "stdout",
       "text": [
        "\n",
        "4999950000.0\n",
        "4999950000.0\n",
        "4999950000.0\n",
        "4999950000.0"
       ]
      },
      {
       "output_type": "stream",
       "stream": "stdout",
       "text": [
        "\n",
        "4999950000.0\n",
        "4999950000.0\n",
        "4999950000.0"
       ]
      },
      {
       "output_type": "stream",
       "stream": "stdout",
       "text": [
        "\n",
        "4999950000.0\n",
        "4999950000.0\n",
        "4999950000.0\n",
        "4999950000.0"
       ]
      },
      {
       "output_type": "stream",
       "stream": "stdout",
       "text": [
        "\n",
        "4999950000.0\n",
        "4999950000.0\n",
        "4999950000.0\n",
        "4999950000.0"
       ]
      },
      {
       "output_type": "stream",
       "stream": "stdout",
       "text": [
        "\n",
        "4999950000.0\n",
        "4999950000.0\n",
        "4999950000.0\n",
        "4999950000.0\n",
        "4999950000.0\n",
        "4999950000.0"
       ]
      },
      {
       "output_type": "stream",
       "stream": "stdout",
       "text": [
        "\n",
        "4999950000.0\n",
        "4999950000.0\n",
        "4999950000.0"
       ]
      },
      {
       "output_type": "stream",
       "stream": "stdout",
       "text": [
        "\n",
        "4999950000.0\n",
        "4999950000.0\n",
        "4999950000.0\n",
        "4999950000.0"
       ]
      },
      {
       "output_type": "stream",
       "stream": "stdout",
       "text": [
        "\n",
        "4999950000.0\n",
        "4999950000.0\n",
        "4999950000.0\n",
        "4999950000.0\n",
        "4999950000.0"
       ]
      },
      {
       "output_type": "stream",
       "stream": "stdout",
       "text": [
        "\n",
        "4999950000.0\n",
        "4999950000.0\n",
        "4999950000.0\n",
        "4999950000.0\n",
        "4999950000.0\n",
        "4999950000.0"
       ]
      },
      {
       "output_type": "stream",
       "stream": "stdout",
       "text": [
        "\n",
        "4999950000.0\n",
        "4999950000.0\n",
        "4999950000.0\n",
        "4999950000.0\n",
        "4999950000.0"
       ]
      },
      {
       "output_type": "stream",
       "stream": "stdout",
       "text": [
        "\n",
        "4999950000.0\n",
        "4999950000.0\n",
        "4999950000.0\n",
        "4999950000.0\n",
        "4999950000.0"
       ]
      },
      {
       "output_type": "stream",
       "stream": "stdout",
       "text": [
        "\n",
        "4999950000.0\n",
        "4999950000.0\n",
        "4999950000.0\n",
        "4999950000.0\n",
        "4999950000.0"
       ]
      },
      {
       "output_type": "stream",
       "stream": "stdout",
       "text": [
        "\n",
        "4999950000.0\n",
        "4999950000.0\n",
        "4999950000.0"
       ]
      },
      {
       "output_type": "stream",
       "stream": "stdout",
       "text": [
        "\n",
        "4999950000.0\n",
        "4999950000.0\n",
        "4999950000.0\n",
        "4999950000.0\n",
        "4999950000.0\n",
        "4999950000.0"
       ]
      },
      {
       "output_type": "stream",
       "stream": "stdout",
       "text": [
        "\n",
        "4999950000.0\n",
        "4999950000.0\n",
        "4999950000.0\n",
        "4999950000.0"
       ]
      },
      {
       "output_type": "stream",
       "stream": "stdout",
       "text": [
        "\n",
        "4999950000.0\n",
        "4999950000.0\n",
        "4999950000.0\n",
        "4999950000.0"
       ]
      },
      {
       "output_type": "stream",
       "stream": "stdout",
       "text": [
        "\n",
        "4999950000.0\n",
        "4999950000.0\n",
        "4999950000.0"
       ]
      },
      {
       "output_type": "stream",
       "stream": "stdout",
       "text": [
        "\n",
        "4999950000.0\n",
        "4999950000.0\n",
        "4999950000.0\n",
        "4999950000.0"
       ]
      },
      {
       "output_type": "stream",
       "stream": "stdout",
       "text": [
        "\n",
        "4999950000.0\n",
        "4999950000.0\n",
        "4999950000.0\n",
        "4999950000.0"
       ]
      },
      {
       "output_type": "stream",
       "stream": "stdout",
       "text": [
        "\n",
        "4999950000.0\n",
        "4999950000.0\n",
        "4999950000.0\n",
        "4999950000.0\n",
        "4999950000.0"
       ]
      },
      {
       "output_type": "stream",
       "stream": "stdout",
       "text": [
        "\n",
        "4999950000.0\n",
        "4999950000.0\n",
        "4999950000.0\n",
        "4999950000.0\n",
        "4999950000.0\n",
        "4999950000.0"
       ]
      },
      {
       "output_type": "stream",
       "stream": "stdout",
       "text": [
        "\n",
        "4999950000.0\n",
        "4999950000.0\n",
        "4999950000.0\n",
        "4999950000.0\n",
        "4999950000.0"
       ]
      },
      {
       "output_type": "stream",
       "stream": "stdout",
       "text": [
        "\n",
        "4999950000.0\n",
        "4999950000.0\n",
        "4999950000.0\n",
        "4999950000.0\n",
        "4999950000.0\n",
        "4999950000.0"
       ]
      },
      {
       "output_type": "stream",
       "stream": "stdout",
       "text": [
        "\n",
        "4999950000.0\n",
        "4999950000.0\n",
        "4999950000.0\n",
        "4999950000.0\n",
        "4999950000.0"
       ]
      },
      {
       "output_type": "stream",
       "stream": "stdout",
       "text": [
        "\n",
        "4999950000.0\n",
        "4999950000.0\n",
        "4999950000.0\n",
        "4999950000.0\n",
        "4999950000.0"
       ]
      },
      {
       "output_type": "stream",
       "stream": "stdout",
       "text": [
        "\n",
        "4999950000.0\n",
        "4999950000.0\n",
        "4999950000.0\n",
        "4999950000.0\n",
        "4999950000.0"
       ]
      },
      {
       "output_type": "stream",
       "stream": "stdout",
       "text": [
        "\n",
        "4999950000.0\n",
        "4999950000.0\n",
        "4999950000.0\n",
        "4999950000.0\n",
        "4999950000.0"
       ]
      },
      {
       "output_type": "stream",
       "stream": "stdout",
       "text": [
        "\n",
        "4999950000.0\n",
        "4999950000.0\n",
        "4999950000.0\n",
        "4999950000.0\n",
        "4999950000.0"
       ]
      },
      {
       "output_type": "stream",
       "stream": "stdout",
       "text": [
        "\n",
        "4999950000.0\n",
        "4999950000.0\n",
        "4999950000.0\n",
        "4999950000.0\n",
        "4999950000.0"
       ]
      },
      {
       "output_type": "stream",
       "stream": "stdout",
       "text": [
        "\n",
        "4999950000.0\n",
        "4999950000.0\n",
        "4999950000.0\n",
        "4999950000.0\n",
        "4999950000.0\n",
        "4999950000.0"
       ]
      },
      {
       "output_type": "stream",
       "stream": "stdout",
       "text": [
        "\n",
        "4999950000.0\n",
        "4999950000.0\n",
        "4999950000.0\n",
        "4999950000.0"
       ]
      },
      {
       "output_type": "stream",
       "stream": "stdout",
       "text": [
        "\n",
        "4999950000.0\n",
        "4999950000.0\n",
        "4999950000.0\n",
        "4999950000.0"
       ]
      },
      {
       "output_type": "stream",
       "stream": "stdout",
       "text": [
        "\n",
        "4999950000.0\n",
        "4999950000.0\n",
        "4999950000.0\n",
        "4999950000.0\n",
        "4999950000.0"
       ]
      },
      {
       "output_type": "stream",
       "stream": "stdout",
       "text": [
        "\n",
        "4999950000.0\n",
        "4999950000.0\n",
        "4999950000.0\n",
        "4999950000.0"
       ]
      },
      {
       "output_type": "stream",
       "stream": "stdout",
       "text": [
        "\n",
        "4999950000.0\n",
        "4999950000.0\n",
        "4999950000.0\n",
        "4999950000.0"
       ]
      },
      {
       "output_type": "stream",
       "stream": "stdout",
       "text": [
        "\n",
        "4999950000.0\n",
        "4999950000.0\n",
        "4999950000.0\n",
        "4999950000.0\n",
        "4999950000.0"
       ]
      },
      {
       "output_type": "stream",
       "stream": "stdout",
       "text": [
        "\n",
        "4999950000.0\n",
        "4999950000.0\n",
        "4999950000.0"
       ]
      },
      {
       "output_type": "stream",
       "stream": "stdout",
       "text": [
        "\n",
        "4999950000.0\n",
        "4999950000.0\n",
        "4999950000.0\n",
        "4999950000.0"
       ]
      },
      {
       "output_type": "stream",
       "stream": "stdout",
       "text": [
        "\n",
        "4999950000.0\n",
        "4999950000.0\n",
        "4999950000.0\n",
        "4999950000.0"
       ]
      },
      {
       "output_type": "stream",
       "stream": "stdout",
       "text": [
        "\n",
        "4999950000.0\n",
        "4999950000.0\n",
        "4999950000.0\n",
        "4999950000.0"
       ]
      },
      {
       "output_type": "stream",
       "stream": "stdout",
       "text": [
        "\n",
        "4999950000.0\n",
        "4999950000.0\n",
        "4999950000.0\n",
        "4999950000.0"
       ]
      },
      {
       "output_type": "stream",
       "stream": "stdout",
       "text": [
        "\n",
        "4999950000.0\n",
        "4999950000.0\n",
        "4999950000.0\n",
        "4999950000.0"
       ]
      },
      {
       "output_type": "stream",
       "stream": "stdout",
       "text": [
        "\n",
        "4999950000.0\n",
        "4999950000.0\n",
        "4999950000.0\n",
        "4999950000.0"
       ]
      },
      {
       "output_type": "stream",
       "stream": "stdout",
       "text": [
        "\n",
        "4999950000.0\n",
        "4999950000.0\n",
        "4999950000.0"
       ]
      },
      {
       "output_type": "stream",
       "stream": "stdout",
       "text": [
        "\n",
        "4999950000.0\n",
        "4999950000.0\n",
        "4999950000.0"
       ]
      },
      {
       "output_type": "stream",
       "stream": "stdout",
       "text": [
        "\n",
        "4999950000.0\n",
        "4999950000.0\n",
        "4999950000.0"
       ]
      },
      {
       "output_type": "stream",
       "stream": "stdout",
       "text": [
        "\n",
        "4999950000.0\n",
        "4999950000.0\n",
        "4999950000.0\n",
        "4999950000.0\n",
        "4999950000.0\n",
        "4999950000.0"
       ]
      },
      {
       "output_type": "stream",
       "stream": "stdout",
       "text": [
        "\n",
        "4999950000.0\n",
        "4999950000.0\n",
        "4999950000.0\n",
        "4999950000.0"
       ]
      },
      {
       "output_type": "stream",
       "stream": "stdout",
       "text": [
        "\n",
        "4999950000.0\n",
        "4999950000.0\n",
        "4999950000.0"
       ]
      },
      {
       "output_type": "stream",
       "stream": "stdout",
       "text": [
        "\n",
        "4999950000.0\n",
        "4999950000.0\n",
        "4999950000.0\n",
        "4999950000.0"
       ]
      },
      {
       "output_type": "stream",
       "stream": "stdout",
       "text": [
        "\n",
        "4999950000.0\n",
        "4999950000.0\n",
        "4999950000.0\n",
        "4999950000.0"
       ]
      },
      {
       "output_type": "stream",
       "stream": "stdout",
       "text": [
        "\n",
        "4999950000.0\n",
        "4999950000.0\n",
        "4999950000.0\n",
        "4999950000.0"
       ]
      },
      {
       "output_type": "stream",
       "stream": "stdout",
       "text": [
        "\n",
        "4999950000.0\n",
        "4999950000.0\n",
        "4999950000.0\n",
        "4999950000.0"
       ]
      },
      {
       "output_type": "stream",
       "stream": "stdout",
       "text": [
        "\n",
        "4999950000.0\n",
        "4999950000.0\n",
        "4999950000.0\n",
        "4999950000.0"
       ]
      },
      {
       "output_type": "stream",
       "stream": "stdout",
       "text": [
        "\n",
        "4999950000.0\n",
        "4999950000.0\n",
        "4999950000.0\n",
        "4999950000.0"
       ]
      },
      {
       "output_type": "stream",
       "stream": "stdout",
       "text": [
        "\n",
        "4999950000.0\n",
        "4999950000.0\n",
        "4999950000.0\n",
        "4999950000.0"
       ]
      },
      {
       "output_type": "stream",
       "stream": "stdout",
       "text": [
        "\n",
        "4999950000.0\n",
        "4999950000.0\n",
        "4999950000.0\n",
        "4999950000.0"
       ]
      },
      {
       "output_type": "stream",
       "stream": "stdout",
       "text": [
        "\n",
        "4999950000.0\n",
        "4999950000.0\n",
        "4999950000.0"
       ]
      },
      {
       "output_type": "stream",
       "stream": "stdout",
       "text": [
        "\n",
        "4999950000.0\n",
        "4999950000.0\n",
        "4999950000.0"
       ]
      },
      {
       "output_type": "stream",
       "stream": "stdout",
       "text": [
        "\n",
        "4999950000.0\n",
        "4999950000.0\n",
        "4999950000.0\n",
        "4999950000.0"
       ]
      },
      {
       "output_type": "stream",
       "stream": "stdout",
       "text": [
        "\n",
        "4999950000.0\n",
        "4999950000.0\n",
        "4999950000.0\n",
        "4999950000.0"
       ]
      },
      {
       "output_type": "stream",
       "stream": "stdout",
       "text": [
        "\n",
        "4999950000.0\n",
        "4999950000.0\n",
        "4999950000.0\n",
        "4999950000.0\n",
        "4999950000.0"
       ]
      },
      {
       "output_type": "stream",
       "stream": "stdout",
       "text": [
        "\n",
        "4999950000.0\n",
        "4999950000.0\n",
        "4999950000.0\n",
        "4999950000.0"
       ]
      },
      {
       "output_type": "stream",
       "stream": "stdout",
       "text": [
        "\n",
        "4999950000.0\n",
        "4999950000.0\n",
        "4999950000.0\n",
        "4999950000.0"
       ]
      },
      {
       "output_type": "stream",
       "stream": "stdout",
       "text": [
        "\n",
        "4999950000.0\n",
        "4999950000.0\n",
        "4999950000.0\n",
        "4999950000.0"
       ]
      },
      {
       "output_type": "stream",
       "stream": "stdout",
       "text": [
        "\n",
        "4999950000.0\n",
        "4999950000.0\n",
        "4999950000.0\n",
        "4999950000.0"
       ]
      },
      {
       "output_type": "stream",
       "stream": "stdout",
       "text": [
        "\n",
        "4999950000.0\n",
        "4999950000.0\n",
        "4999950000.0\n",
        "4999950000.0"
       ]
      },
      {
       "output_type": "stream",
       "stream": "stdout",
       "text": [
        "\n",
        "4999950000.0\n",
        "4999950000.0\n",
        "4999950000.0\n",
        "4999950000.0"
       ]
      },
      {
       "output_type": "stream",
       "stream": "stdout",
       "text": [
        "\n",
        "4999950000.0\n",
        "4999950000.0\n",
        "4999950000.0\n",
        "4999950000.0"
       ]
      },
      {
       "output_type": "stream",
       "stream": "stdout",
       "text": [
        "\n",
        "4999950000.0\n",
        "4999950000.0\n",
        "4999950000.0\n",
        "4999950000.0"
       ]
      },
      {
       "output_type": "stream",
       "stream": "stdout",
       "text": [
        "\n",
        "4999950000.0\n",
        "4999950000.0\n",
        "4999950000.0\n",
        "4999950000.0"
       ]
      },
      {
       "output_type": "stream",
       "stream": "stdout",
       "text": [
        "\n",
        "4999950000.0\n",
        "4999950000.0\n",
        "4999950000.0\n",
        "4999950000.0"
       ]
      },
      {
       "output_type": "stream",
       "stream": "stdout",
       "text": [
        "\n",
        "4999950000.0\n",
        "4999950000.0\n",
        "4999950000.0"
       ]
      },
      {
       "output_type": "stream",
       "stream": "stdout",
       "text": [
        "\n",
        "4999950000.0\n",
        "4999950000.0\n",
        "4999950000.0\n",
        "4999950000.0"
       ]
      },
      {
       "output_type": "stream",
       "stream": "stdout",
       "text": [
        "\n",
        "4999950000.0\n",
        "4999950000.0\n",
        "4999950000.0\n",
        "4999950000.0"
       ]
      },
      {
       "output_type": "stream",
       "stream": "stdout",
       "text": [
        "\n",
        "4999950000.0\n",
        "4999950000.0\n",
        "4999950000.0\n",
        "4999950000.0\n",
        "4999950000.0"
       ]
      },
      {
       "output_type": "stream",
       "stream": "stdout",
       "text": [
        "\n",
        "4999950000.0\n",
        "4999950000.0\n",
        "4999950000.0\n",
        "100 loops, best of 3: 11.7 ms per loop\n"
       ]
      }
     ],
     "prompt_number": 6
    },
    {
     "cell_type": "code",
     "collapsed": false,
     "input": [],
     "language": "python",
     "metadata": {},
     "outputs": [],
     "prompt_number": 6
    }
   ],
   "metadata": {}
  }
 ]
}