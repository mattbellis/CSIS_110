{
 "metadata": {
  "name": "Calculating pi"
 },
 "nbformat": 3,
 "nbformat_minor": 0,
 "worksheets": [
  {
   "cells": [
    {
     "cell_type": "heading",
     "level": 1,
     "metadata": {},
     "source": [
      "Goals of this lab"
     ]
    },
    {
     "cell_type": "markdown",
     "metadata": {},
     "source": [
      "We will learn to calculate $\\pi$ to arbitrary precision by making use of <a href=\"http://en.wikipedia.org/wiki/Monte_Carlo_method\">Monte Carlo methods</a>. Simply put, we will use a random process to help us calculate soem quantity. To do this you will make use of\n",
      "<ul>\n",
      "    <li>Loops.\n",
      "    <li>Conditionals.\n",
      "        <li>A random number generator\n",
      "            <li>Plots to visualize this process.\n",
      "            </ul>"
     ]
    },
    {
     "cell_type": "heading",
     "level": 2,
     "metadata": {},
     "source": [
      "The procedure"
     ]
    },
    {
     "cell_type": "markdown",
     "metadata": {},
     "source": [
      "Consider a circle perfectly inscribed within a square. One side of the square is then equal to $2*r$, where $r$ is the radius of the circle. "
     ]
    },
    {
     "cell_type": "code",
     "collapsed": false,
     "input": [
      "from IPython.core.display import Image\n",
      "img = Image(filename='circle_in_square.png')"
     ],
     "language": "python",
     "metadata": {},
     "outputs": [],
     "prompt_number": 12
    },
    {
     "cell_type": "code",
     "collapsed": false,
     "input": [],
     "language": "python",
     "metadata": {},
     "outputs": [],
     "prompt_number": 10
    },
    {
     "cell_type": "code",
     "collapsed": false,
     "input": [],
     "language": "python",
     "metadata": {},
     "outputs": [],
     "prompt_number": 10
    },
    {
     "cell_type": "code",
     "collapsed": false,
     "input": [],
     "language": "python",
     "metadata": {},
     "outputs": [],
     "prompt_number": 10
    },
    {
     "cell_type": "code",
     "collapsed": false,
     "input": [],
     "language": "python",
     "metadata": {},
     "outputs": [],
     "prompt_number": 10
    },
    {
     "cell_type": "code",
     "collapsed": false,
     "input": [],
     "language": "python",
     "metadata": {},
     "outputs": []
    }
   ],
   "metadata": {}
  }
 ]
}