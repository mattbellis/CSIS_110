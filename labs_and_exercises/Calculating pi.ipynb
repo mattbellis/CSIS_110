{
 "metadata": {
  "name": "Calculating pi"
 },
 "nbformat": 3,
 "nbformat_minor": 0,
 "worksheets": [
  {
   "cells": [
    {
     "cell_type": "heading",
     "level": 1,
     "metadata": {},
     "source": [
      "Goals of this lab"
     ]
    },
    {
     "cell_type": "markdown",
     "metadata": {},
     "source": [
      "We will learn to calculate $\\pi$ to arbitrary precision by making use of <a href=\"http://en.wikipedia.org/wiki/Monte_Carlo_method\">Monte Carlo methods</a>. Simply put, we will use a random process to help us calculate some quantity. To do this you will make use of\n",
      "<ul>\n",
      "    <li>Loops.\n",
      "    <li>Conditionals.\n",
      "        <li>A random number generator\n",
      "            <li>Plots to visualize this process.\n",
      "            </ul>"
     ]
    },
    {
     "cell_type": "heading",
     "level": 2,
     "metadata": {},
     "source": [
      "The procedure"
     ]
    },
    {
     "cell_type": "markdown",
     "metadata": {},
     "source": [
      "Consider a circle perfectly inscribed within a square. One side of this square is then equal to $2*r$, where $r$ is the radius of the circle. "
     ]
    },
    {
     "cell_type": "code",
     "collapsed": false,
     "input": [
      "from IPython.display import Image\n",
      "Image(filename='circle_in_square.png')"
     ],
     "language": "python",
     "metadata": {},
     "outputs": [
      {
       "output_type": "pyout",
       "png": "[encoded data removed]",
       "prompt_number": 5,
       "text": [
        "<IPython.core.display.Image at 0x2718310>"
       ]
      }
     ],
     "prompt_number": 5
    },
    {
     "cell_type": "heading",
     "level": 3,
     "metadata": {},
     "source": [
      "Question"
     ]
    },
    {
     "cell_type": "markdown",
     "metadata": {},
     "source": [
      "Given a circle of radius $r$ inscribed in a circle as above, what is ratio of the area of the circle to that of the square?"
     ]
    },
    {
     "cell_type": "code",
     "collapsed": false,
     "input": [],
     "language": "python",
     "metadata": {},
     "outputs": [],
     "prompt_number": 5
    },
    {
     "cell_type": "markdown",
     "metadata": {},
     "source": [
      "What is $\\pi$ in terms of the area of the circle ($A_c$) and the area of the square ($A_s$)?"
     ]
    },
    {
     "cell_type": "code",
     "collapsed": false,
     "input": [],
     "language": "python",
     "metadata": {},
     "outputs": [],
     "prompt_number": 5
    },
    {
     "cell_type": "markdown",
     "metadata": {},
     "source": [
      "We can now use this information to calculate $\\pi$! If I generate some random values for $x$ and $y$ (between -1 and 1), I can calculate whether or not those coordinates fall inside or outside of the circle.  "
     ]
    },
    {
     "cell_type": "markdown",
     "metadata": {},
     "source": [
      "* Generate 1000 random values for $x$ and $y$ between -1 and 1.\n",
      "* Loop over these values count how many fall inside a circle of $r=1$ centered at the origin. Use this as a proxy for the area of the circle. \n",
      "* Use 1000 (the original number of random values) as a proxy for the area of the square.\n",
      "* Using this information, calculate $\\pi$ and compare to the value stored within the numpy library. What percent are you off? "
     ]
    },
    {
     "cell_type": "code",
     "collapsed": false,
     "input": [
      "from numpy import pi\n",
      "pi"
     ],
     "language": "python",
     "metadata": {},
     "outputs": [
      {
       "output_type": "pyout",
       "prompt_number": 6,
       "text": [
        "3.141592653589793"
       ]
      }
     ],
     "prompt_number": 6
    },
    {
     "cell_type": "markdown",
     "metadata": {},
     "source": [
      "Repeat the above procedure, but save the x and y values that are within the circle in some other arrays and save the values that are outside the circle in a different set of arrays. Plot these two sets of data in different colors to visualize what is happening in this calculation. \n",
      "\n",
      "<i>Warning!</i> When you plot, make sure you call the plot function to <i>not</i> draw lines between each point. Otherwise your plot will appear to be a mess and it will take much longer to display. "
     ]
    },
    {
     "cell_type": "heading",
     "level": 4,
     "metadata": {},
     "source": [
      "Increase the precision"
     ]
    },
    {
     "cell_type": "markdown",
     "metadata": {},
     "source": [
      "Repeat the above procedure for 10000 and 1000000 points, but <b>don't</b> make the plots (that can be probhibitively time consuming). Do compare the precision that you are seeing with increasing number of random points."
     ]
    },
    {
     "cell_type": "code",
     "collapsed": false,
     "input": [],
     "language": "python",
     "metadata": {},
     "outputs": [],
     "prompt_number": 6
    }
   ],
   "metadata": {}
  }
 ]
}