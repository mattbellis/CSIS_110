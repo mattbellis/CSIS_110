{
 "metadata": {
  "name": "Learning the notebook - Assignment 0"
 },
 "nbformat": 3,
 "nbformat_minor": 0,
 "worksheets": [
  {
   "cells": [
    {
     "cell_type": "heading",
     "level": 3,
     "metadata": {},
     "source": [
      "Assignment 0: This uses Heading 3"
     ]
    },
    {
     "cell_type": "raw",
     "metadata": {},
     "source": [
      "This assignment will walk you through the formatting and code execution capabilities of the IPython notebook. As you will be using this for your assignments, it is *very important* that you learn how to do this properly. Make sure you take the time to understand all the different parts of this assignment. It will make your life *much* easier this semester!  :) (This section uses the Raw Text format)"
     ]
    },
    {
     "cell_type": "markdown",
     "metadata": {},
     "source": [
      "This section uses the Markdown formatting. Using this you can type HTML code and have it render. For example putting this "
     ]
    },
    {
     "cell_type": "raw",
     "metadata": {},
     "source": [
      "<a href=\"www.google.com\">Google</a>"
     ]
    },
    {
     "cell_type": "markdown",
     "metadata": {},
     "source": [
      "into Markdown, instead of Raw Text, will produce a link like this:"
     ]
    },
    {
     "cell_type": "markdown",
     "metadata": {},
     "source": [
      "<a href=\"www.google.com\">Google</a>"
     ]
    },
    {
     "cell_type": "code",
     "collapsed": false,
     "input": [],
     "language": "python",
     "metadata": {},
     "outputs": []
    }
   ],
   "metadata": {}
  }
 ]
}