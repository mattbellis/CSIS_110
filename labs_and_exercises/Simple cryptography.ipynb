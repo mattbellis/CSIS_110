{
 "metadata": {
  "name": "Simple cryptography"
 },
 "nbformat": 3,
 "nbformat_minor": 0,
 "worksheets": [
  {
   "cells": [
    {
     "cell_type": "heading",
     "level": 1,
     "metadata": {},
     "source": [
      "Simple Cryptography"
     ]
    },
    {
     "cell_type": "markdown",
     "metadata": {},
     "source": [
      "<a href=\"http://en.wikipedia.org/wiki/Cryptography\">Cryptography</a> is the practice and study of techniques for secure communication in the presence of third parties (from Wikipedia). Simply put, it's making secret messages! \n",
      "\n",
      "By now, you have learned about strings and loops and assigning variables. Let's put this into practice!"
     ]
    },
    {
     "cell_type": "heading",
     "level": 2,
     "metadata": {},
     "source": [
      "Problem #1"
     ]
    },
    {
     "cell_type": "markdown",
     "metadata": {},
     "source": [
      "Starting with this simple conversion (cypher):\n",
      "\n",
      " 'A' = 01<br>\n",
      " 'B' = 02<br>\n",
      " 'C' = 03<br>\n",
      " .<br>\n",
      " .<br>\n",
      " .<br>\n",
      " 'Z' = 26<br>\n",
      " '.' = 99<br>\n",
      " ' ' = 00<br>\n",
      "\n",
      "Translate the following set of numbers."
     ]
    },
    {
     "cell_type": "code",
     "collapsed": false,
     "input": [
      "secret_message = '200805000904050100020508091404000409070920011200031513162120051819001301250002050005241612010914050400022500190125091407002008012000200805190500130103080914051900011805000914200514040504002015000301181825001521200001142500151605180120091514190023080903080003152112040002050004151405000225000100082113011400031513162120051899000112011400202118091407990001121915001915211404070118040514000919000123051915130599'"
     ],
     "language": "python",
     "metadata": {},
     "outputs": [],
     "prompt_number": 1
    },
    {
     "cell_type": "code",
     "collapsed": false,
     "input": [
      "secret_message"
     ],
     "language": "python",
     "metadata": {},
     "outputs": [
      {
       "output_type": "pyout",
       "prompt_number": 2,
       "text": [
        "'200805000904050100020508091404000409070920011200031513162120051819001301250002050005241612010914050400022500190125091407002008012000200805190500130103080914051900011805000914200514040504002015000301181825001521200001142500151605180120091514190023080903080003152112040002050004151405000225000100082113011400031513162120051899000112011400202118091407990001121915001915211404070118040514000919000123051915130599'"
       ]
      }
     ],
     "prompt_number": 2
    },
    {
     "cell_type": "code",
     "collapsed": false,
     "input": [],
     "language": "python",
     "metadata": {},
     "outputs": []
    }
   ],
   "metadata": {}
  }
 ]
}